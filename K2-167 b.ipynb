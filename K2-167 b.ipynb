{
 "cells": [
  {
   "cell_type": "code",
   "execution_count": 2,
   "metadata": {
    "collapsed": true
   },
   "outputs": [],
   "source": [
    "%matplotlib inline\n",
    "import lightkurve as lk\n",
    "import numpy as np\n",
    "import matplotlib.pyplot as plt\n",
    "from astropy.time import Time\n",
    "plt.rcParams.update({'figure.max_open_warning': 0})\n",
    "from astropy.io import fits\n",
    "import pymc3 as pm\n",
    "import pandas as pd\n",
    "import exoplanet as xo\n",
    "from parameters import *"
   ]
  },
  {
   "cell_type": "code",
   "execution_count": 3,
   "metadata": {
    "collapsed": false
   },
   "outputs": [
    {
     "name": "stdout",
     "output_type": "stream",
     "text": [
      "9.977481\n"
     ]
    }
   ],
   "source": [
    "hostname = 'K2-167'\n",
    "TIC = 69747919\n",
    "\n",
    "tess_offset, k2_offset = define_offsets()\n",
    "\n",
    "period, t0, dur, depth, impact_param, r_planet, r_star = get_params(hostname)\n",
    "period_guess, t0, dur, depth, impact_param, r_planet, r_star = generate_inputs(period, t0, dur, depth, impact_param, r_planet, r_star)\n",
    "\n",
    "\n",
    "print(period_guess)"
   ]
  },
  {
   "cell_type": "code",
   "execution_count": 6,
   "metadata": {
    "collapsed": false
   },
   "outputs": [
    {
     "name": "stdout",
     "output_type": "stream",
     "text": [
      "9.977481 2456979.93678 nan nan nan 0.252 1.83\n",
      "9.977481 2456979.93678 nan nan nan 0.252 1.83\n"
     ]
    }
   ],
   "source": [
    "print(period, t0, dur, depth, impact_param, r_planet, r_star)"
   ]
  },
  {
   "cell_type": "code",
   "execution_count": 4,
   "metadata": {
    "collapsed": false,
    "scrolled": false
   },
   "outputs": [
    {
     "name": "stderr",
     "output_type": "stream",
     "text": [
      "/Users/charlotte/anaconda3/lib/python3.5/site-packages/lightkurve/interact.py:408: LightkurveWarning: interact() requires Bokeh version 1.0 or later\n",
      "  warnings.warn(\"interact() requires Bokeh version 1.0 or later\", LightkurveWarning)\n"
     ]
    },
    {
     "data": {
      "text/html": []
     },
     "metadata": {},
     "output_type": "display_data"
    },
    {
     "data": {
      "application/javascript": [
       "\n",
       "(function(global) {\n",
       "  function now() {\n",
       "    return new Date();\n",
       "  }\n",
       "\n",
       "  var force = \"1\";\n",
       "\n",
       "  if (typeof (window._bokeh_onload_callbacks) === \"undefined\" || force !== \"\") {\n",
       "    window._bokeh_onload_callbacks = [];\n",
       "    window._bokeh_is_loading = undefined;\n",
       "  }\n",
       "\n",
       "\n",
       "  \n",
       "  if (typeof (window._bokeh_timeout) === \"undefined\" || force !== \"\") {\n",
       "    window._bokeh_timeout = Date.now() + 5000;\n",
       "    window._bokeh_failed_load = false;\n",
       "  }\n",
       "\n",
       "  var NB_LOAD_WARNING = {'data': {'text/html':\n",
       "     \"<div style='background-color: #fdd'>\\n\"+\n",
       "     \"<p>\\n\"+\n",
       "     \"BokehJS does not appear to have successfully loaded. If loading BokehJS from CDN, this \\n\"+\n",
       "     \"may be due to a slow or bad network connection. Possible fixes:\\n\"+\n",
       "     \"</p>\\n\"+\n",
       "     \"<ul>\\n\"+\n",
       "     \"<li>re-rerun `output_notebook()` to attempt to load from CDN again, or</li>\\n\"+\n",
       "     \"<li>use INLINE resources instead, as so:</li>\\n\"+\n",
       "     \"</ul>\\n\"+\n",
       "     \"<code>\\n\"+\n",
       "     \"from bokeh.resources import INLINE\\n\"+\n",
       "     \"output_notebook(resources=INLINE)\\n\"+\n",
       "     \"</code>\\n\"+\n",
       "     \"</div>\"}};\n",
       "\n",
       "  function display_loaded() {\n",
       "    if (window.Bokeh !== undefined) {\n",
       "      Bokeh.$(\"#\").text(\"BokehJS successfully loaded.\");\n",
       "    } else if (Date.now() < window._bokeh_timeout) {\n",
       "      setTimeout(display_loaded, 100)\n",
       "    }\n",
       "  }\n",
       "\n",
       "  function run_callbacks() {\n",
       "    window._bokeh_onload_callbacks.forEach(function(callback) { callback() });\n",
       "    delete window._bokeh_onload_callbacks\n",
       "    console.info(\"Bokeh: all callbacks have finished\");\n",
       "  }\n",
       "\n",
       "  function load_libs(js_urls, callback) {\n",
       "    window._bokeh_onload_callbacks.push(callback);\n",
       "    if (window._bokeh_is_loading > 0) {\n",
       "      console.log(\"Bokeh: BokehJS is being loaded, scheduling callback at\", now());\n",
       "      return null;\n",
       "    }\n",
       "    if (js_urls == null || js_urls.length === 0) {\n",
       "      run_callbacks();\n",
       "      return null;\n",
       "    }\n",
       "    console.log(\"Bokeh: BokehJS not loaded, scheduling load and callback at\", now());\n",
       "    window._bokeh_is_loading = js_urls.length;\n",
       "    for (var i = 0; i < js_urls.length; i++) {\n",
       "      var url = js_urls[i];\n",
       "      var s = document.createElement('script');\n",
       "      s.src = url;\n",
       "      s.async = false;\n",
       "      s.onreadystatechange = s.onload = function() {\n",
       "        window._bokeh_is_loading--;\n",
       "        if (window._bokeh_is_loading === 0) {\n",
       "          console.log(\"Bokeh: all BokehJS libraries loaded\");\n",
       "          run_callbacks()\n",
       "        }\n",
       "      };\n",
       "      s.onerror = function() {\n",
       "        console.warn(\"failed to load library \" + url);\n",
       "      };\n",
       "      console.log(\"Bokeh: injecting script tag for BokehJS library: \", url);\n",
       "      document.getElementsByTagName(\"head\")[0].appendChild(s);\n",
       "    }\n",
       "  };\n",
       "\n",
       "  var js_urls = ['https://cdn.pydata.org/bokeh/release/bokeh-0.12.2.min.js', 'https://cdn.pydata.org/bokeh/release/bokeh-widgets-0.12.2.min.js', 'https://cdn.pydata.org/bokeh/release/bokeh-compiler-0.12.2.min.js'];\n",
       "\n",
       "  var inline_js = [\n",
       "    function(Bokeh) {\n",
       "      Bokeh.set_log_level(\"info\");\n",
       "    },\n",
       "    \n",
       "    function(Bokeh) {\n",
       "      \n",
       "      Bokeh.$(\"#e776712f-0c24-4ca9-bd74-698d771fc340\").text(\"BokehJS is loading...\");\n",
       "    },\n",
       "    function(Bokeh) {\n",
       "      console.log(\"Bokeh: injecting CSS: https://cdn.pydata.org/bokeh/release/bokeh-0.12.2.min.css\");\n",
       "      Bokeh.embed.inject_css(\"https://cdn.pydata.org/bokeh/release/bokeh-0.12.2.min.css\");\n",
       "      console.log(\"Bokeh: injecting CSS: https://cdn.pydata.org/bokeh/release/bokeh-widgets-0.12.2.min.css\");\n",
       "      Bokeh.embed.inject_css(\"https://cdn.pydata.org/bokeh/release/bokeh-widgets-0.12.2.min.css\");\n",
       "    }\n",
       "  ];\n",
       "\n",
       "  function run_inline_js() {\n",
       "    \n",
       "    if ((window.Bokeh !== undefined) || (force === \"1\")) {\n",
       "      for (var i = 0; i < inline_js.length; i++) {\n",
       "        inline_js[i](window.Bokeh);\n",
       "      }} else if (Date.now() < window._bokeh_timeout) {\n",
       "      setTimeout(run_inline_js, 100);\n",
       "    } else if (!window._bokeh_failed_load) {\n",
       "      console.log(\"Bokeh: BokehJS failed to load within specified timeout.\");\n",
       "      window._bokeh_failed_load = true;\n",
       "    } else if (!force) {\n",
       "      var cell = $(\"#\").parents('.cell').data().cell;\n",
       "      cell.output_area.append_execute_result(NB_LOAD_WARNING)\n",
       "    }\n",
       "\n",
       "  }\n",
       "\n",
       "  if (window._bokeh_is_loading === 0) {\n",
       "    console.log(\"Bokeh: BokehJS loaded, going straight to plotting\");\n",
       "    run_inline_js();\n",
       "  } else {\n",
       "    load_libs(js_urls, function() {\n",
       "      console.log(\"Bokeh: BokehJS plotting callback run at\", now());\n",
       "      run_inline_js();\n",
       "    });\n",
       "  }\n",
       "}(this));"
      ]
     },
     "metadata": {},
     "output_type": "display_data"
    },
    {
     "ename": "TypeError",
     "evalue": "show() got an unexpected keyword argument 'notebook_url'",
     "output_type": "error",
     "traceback": [
      "\u001b[0;31m---------------------------------------------------------------------------\u001b[0m",
      "\u001b[0;31mTypeError\u001b[0m                                 Traceback (most recent call last)",
      "\u001b[0;32m<ipython-input-4-0d34e43f2e61>\u001b[0m in \u001b[0;36m<module>\u001b[0;34m()\u001b[0m\n\u001b[1;32m      8\u001b[0m \u001b[0mtpf_tess\u001b[0m \u001b[0;34m=\u001b[0m \u001b[0mlk\u001b[0m\u001b[0;34m.\u001b[0m\u001b[0msearch_targetpixelfile\u001b[0m\u001b[0;34m(\u001b[0m\u001b[0mTIC\u001b[0m\u001b[0;34m,\u001b[0m \u001b[0mmission\u001b[0m\u001b[0;34m=\u001b[0m\u001b[0;34m'TESS'\u001b[0m\u001b[0;34m)\u001b[0m\u001b[0;34m.\u001b[0m\u001b[0mdownload\u001b[0m\u001b[0;34m(\u001b[0m\u001b[0;34m)\u001b[0m\u001b[0;34m\u001b[0m\u001b[0m\n\u001b[1;32m      9\u001b[0m \u001b[0mtpf_tess\u001b[0m\u001b[0;34m.\u001b[0m\u001b[0mplot\u001b[0m\u001b[0;34m(\u001b[0m\u001b[0maperture_mask\u001b[0m\u001b[0;34m=\u001b[0m\u001b[0mtpf_tess\u001b[0m\u001b[0;34m.\u001b[0m\u001b[0mpipeline_mask\u001b[0m\u001b[0;34m)\u001b[0m\u001b[0;34m\u001b[0m\u001b[0m\n\u001b[0;32m---> 10\u001b[0;31m \u001b[0mtpf_tess\u001b[0m\u001b[0;34m.\u001b[0m\u001b[0minteract\u001b[0m\u001b[0;34m(\u001b[0m\u001b[0;34m)\u001b[0m\u001b[0;34m\u001b[0m\u001b[0m\n\u001b[0m\u001b[1;32m     11\u001b[0m \u001b[0;34m\u001b[0m\u001b[0m\n\u001b[1;32m     12\u001b[0m \u001b[0;31m# run PLD on light curve to remove noise\u001b[0m\u001b[0;34m\u001b[0m\u001b[0;34m\u001b[0m\u001b[0m\n",
      "\u001b[0;32m/Users/charlotte/anaconda3/lib/python3.5/site-packages/lightkurve/targetpixelfile.py\u001b[0m in \u001b[0;36minteract\u001b[0;34m(self, notebook_url, max_cadences, aperture_mask, exported_filename)\u001b[0m\n\u001b[1;32m    643\u001b[0m                                     \u001b[0mmax_cadences\u001b[0m\u001b[0;34m=\u001b[0m\u001b[0mmax_cadences\u001b[0m\u001b[0;34m,\u001b[0m\u001b[0;34m\u001b[0m\u001b[0m\n\u001b[1;32m    644\u001b[0m                                     \u001b[0maperture_mask\u001b[0m\u001b[0;34m=\u001b[0m\u001b[0maperture_mask\u001b[0m\u001b[0;34m,\u001b[0m\u001b[0;34m\u001b[0m\u001b[0m\n\u001b[0;32m--> 645\u001b[0;31m                                     exported_filename=exported_filename)\n\u001b[0m\u001b[1;32m    646\u001b[0m \u001b[0;34m\u001b[0m\u001b[0m\n\u001b[1;32m    647\u001b[0m     \u001b[0;32mdef\u001b[0m \u001b[0minteract_sky\u001b[0m\u001b[0;34m(\u001b[0m\u001b[0mself\u001b[0m\u001b[0;34m,\u001b[0m \u001b[0mnotebook_url\u001b[0m\u001b[0;34m=\u001b[0m\u001b[0;34m'localhost:8888'\u001b[0m\u001b[0;34m,\u001b[0m \u001b[0mmagnitude_limit\u001b[0m\u001b[0;34m=\u001b[0m\u001b[0;36m18\u001b[0m\u001b[0;34m)\u001b[0m\u001b[0;34m:\u001b[0m\u001b[0;34m\u001b[0m\u001b[0m\n",
      "\u001b[0;32m/Users/charlotte/anaconda3/lib/python3.5/site-packages/lightkurve/interact.py\u001b[0m in \u001b[0;36mshow_interact_widget\u001b[0;34m(tpf, notebook_url, max_cadences, aperture_mask, exported_filename)\u001b[0m\n\u001b[1;32m    558\u001b[0m \u001b[0;34m\u001b[0m\u001b[0m\n\u001b[1;32m    559\u001b[0m     \u001b[0moutput_notebook\u001b[0m\u001b[0;34m(\u001b[0m\u001b[0mverbose\u001b[0m\u001b[0;34m=\u001b[0m\u001b[0;32mFalse\u001b[0m\u001b[0;34m,\u001b[0m \u001b[0mhide_banner\u001b[0m\u001b[0;34m=\u001b[0m\u001b[0;32mTrue\u001b[0m\u001b[0;34m)\u001b[0m\u001b[0;34m\u001b[0m\u001b[0m\n\u001b[0;32m--> 560\u001b[0;31m     \u001b[0;32mreturn\u001b[0m \u001b[0mshow\u001b[0m\u001b[0;34m(\u001b[0m\u001b[0mcreate_interact_ui\u001b[0m\u001b[0;34m,\u001b[0m \u001b[0mnotebook_url\u001b[0m\u001b[0;34m=\u001b[0m\u001b[0mnotebook_url\u001b[0m\u001b[0;34m)\u001b[0m\u001b[0;34m\u001b[0m\u001b[0m\n\u001b[0m\u001b[1;32m    561\u001b[0m \u001b[0;34m\u001b[0m\u001b[0m\n\u001b[1;32m    562\u001b[0m \u001b[0;34m\u001b[0m\u001b[0m\n",
      "\u001b[0;31mTypeError\u001b[0m: show() got an unexpected keyword argument 'notebook_url'"
     ]
    },
    {
     "data": {
      "image/png": "[encoded data removed]",
      "text/plain": [
       "<Figure size 848.5x400 with 2 Axes>"
      ]
     },
     "metadata": {},
     "output_type": "display_data"
    }
   ],
   "source": [
    "# known transit times for target converted to TESS time\n",
    "# this will be automated eventually\n",
    "t1_tess = 2458356.835732790 - 2457000\n",
    "t2_tess = 2458366.812702527 - 2457000\n",
    "t3_tess = 2458376.790203780 - 2457000\n",
    "\n",
    "# plot the TPF for the target to make sure the aperture looks ok\n",
    "tpf_tess = lk.search_targetpixelfile(TIC, mission='TESS').download()\n",
    "tpf_tess.plot(aperture_mask=tpf_tess.pipeline_mask)\n",
    "#tpf_tess.interact()\n",
    "\n",
    "# run PLD on light curve to remove noise\n",
    "def get_transit_mask(t, transit_time, period_guess, duration=0.2):\n",
    "    hp = 0.5*period_guess\n",
    "    return np.abs((t-transit_time+hp) % period_guess - hp) < 0.5*duration\n",
    "\n",
    "mask = np.ones_like(tpf_tess.time, dtype=bool)\n",
    "mask &= get_transit_mask(tpf_tess.time, t1_tess, period_guess)\n",
    "corrector = lk.PLDCorrector(tpf_tess)\n",
    "lc_tess = corrector.correct(cadence_mask=~mask, use_gp=False)\n",
    "lc_tess = lc_tess.remove_outliers(sigma = 6).remove_outliers(sigma=6)\n",
    "\n",
    "# plot light curve without PLD corrections for comparison\n",
    "lc2_tess = tpf_tess.to_lightcurve(aperture_mask=tpf_tess.pipeline_mask)\n",
    "clipped_lc2_tess = lc2_tess.remove_outliers(sigma=6).flatten()\n",
    "\n",
    "ax = lc_tess.scatter(s=0.1)\n",
    "ax = clipped_lc2_tess.scatter(s=0.1)"
   ]
  },
  {
   "cell_type": "code",
   "execution_count": null,
   "metadata": {
    "collapsed": false
   },
   "outputs": [],
   "source": [
    "# plot transit times predicted by K2 on the TESS light curve\n",
    "ax = lc_tess.scatter(s=0.1)\n",
    "plt.xlim(1353,1383)\n",
    "\n",
    "x_tess = []\n",
    "x_tess.append(t1_tess)\n",
    "x_tess.append(t2_tess)\n",
    "x_tess.append(t3_tess)\n",
    "print(x_tess)\n",
    "\n",
    "for i in x_tess:\n",
    "    plt.axvline(x=i, color='hotpink', alpha=0.4, linewidth = 6)\n",
    "    \n",
    "plt.title('K2-167 Light Curve') \n",
    "plt.savefig('k2-167b.png')\n",
    "plt.show()"
   ]
  },
  {
   "cell_type": "code",
   "execution_count": null,
   "metadata": {
    "collapsed": false
   },
   "outputs": [],
   "source": [
    "# fold data using period determined by K2 to generate phase curve with TESS data\n",
    "fold = lc_tess.fold(period_guess, t0 = t1_tess)\n",
    "ax = fold.scatter(s=0.1)"
   ]
  },
  {
   "cell_type": "code",
   "execution_count": null,
   "metadata": {
    "collapsed": true
   },
   "outputs": [],
   "source": [
    "# format data for use in xo\n",
    "norm_tess = lc_tess.normalize()\n",
    "x_tess = np.ascontiguousarray(norm_tess.time, dtype=np.float64)\n",
    "y_tess = np.ascontiguousarray(norm_tess.flux, dtype=np.float64)\n",
    "yerr_tess = np.ascontiguousarray(norm_tess.flux_err, dtype=np.float64)"
   ]
  },
  {
   "cell_type": "code",
   "execution_count": null,
   "metadata": {
    "collapsed": false
   },
   "outputs": [],
   "source": [
    "# initial fit of model parameters using TESS data\n",
    "with pm.Model() as model:\n",
    "\n",
    "    # The baseline flux\n",
    "    mean = pm.Normal(\"mean\", mu=1, sd=1.0)\n",
    "\n",
    "    # The time of a reference transit for the planet (including a manually determined offset)\n",
    "    t0 = pm.Normal(\"t0\", mu=t1_tess + 0.05, sd=1.0)\n",
    "\n",
    "    # The log period; also tracking the period itself\n",
    "    logP = pm.Normal(\"logP\", mu=np.log(period_guess), sd=0.1)\n",
    "    period = pm.Deterministic(\"period\", pm.math.exp(logP))\n",
    "\n",
    "    # The Kipping (2013) parameterization for quadratic limb darkening paramters\n",
    "    u = xo.distributions.QuadLimbDark(\"u\")\n",
    "\n",
    "    # The Espinoza (2018) parameterization for the joint radius ratio and\n",
    "    # impact parameter distribution\n",
    "    r, b = xo.distributions.get_joint_radius_impact(\n",
    "        min_radius=0.001, max_radius=0.1,\n",
    "        testval_r=.01,\n",
    "        testval_b=0.5\n",
    "    )\n",
    "\n",
    "    # This shouldn't make a huge difference, but I like to put a uniform\n",
    "    # prior on the *log* of the radius ratio instead of the value. This\n",
    "    # can be implemented by adding a custom \"potential\" (log probability).\n",
    "    pm.Potential(\"r_prior\", -pm.math.log(r))\n",
    "\n",
    "    # Set up a Keplerian orbit for the planets\n",
    "    orbit = xo.orbits.KeplerianOrbit(period=period, t0=t0, b=b)\n",
    "\n",
    "    # Compute the model light curve using starry\n",
    "    light_curves = xo.StarryLightCurve(u).get_light_curve(\n",
    "        orbit=orbit, r=r, t=x_tess)\n",
    "    light_curve = pm.math.sum(light_curves, axis=-1) + mean\n",
    "\n",
    "    # Here we track the value of the model light curve for plotting\n",
    "    # purposes\n",
    "    pm.Deterministic(\"light_curves\", light_curves)\n",
    "\n",
    "    # The likelihood function assuming known Gaussian uncertainty\n",
    "    pm.Normal(\"obs\", mu=light_curve, sd=yerr_tess, observed=y_tess)\n",
    "\n",
    "    # Fit for the maximum a posteriori parameters given the simuated\n",
    "    # dataset\n",
    "    map_soln_tess = model.test_point\n",
    "    map_soln_tess = xo.optimize(start=map_soln_tess, vars = [t0])\n",
    "    map_soln_tess = xo.optimize(start=map_soln_tess, vars = [mean, model.rb])\n",
    "    map_soln_tess = xo.optimize(start=map_soln_tess, vars = [logP, t0])\n",
    "    map_soln_tess = xo.optimize(start=map_soln_tess)"
   ]
  },
  {
   "cell_type": "code",
   "execution_count": null,
   "metadata": {
    "collapsed": false,
    "scrolled": true
   },
   "outputs": [],
   "source": [
    "# display initial model results\n",
    "print(map_soln_tess)"
   ]
  },
  {
   "cell_type": "code",
   "execution_count": null,
   "metadata": {
    "collapsed": false
   },
   "outputs": [],
   "source": [
    "# plot estimated transit model over folded data\n",
    "x_fold = x_tess % period_guess\n",
    "inds = np.argsort(x_fold)\n",
    "plt.plot(x_fold, y_tess, \".\", ms=3, alpha=0.3)\n",
    "with model:\n",
    "    plt.plot(x_fold[inds], xo.utils.eval_in_model(light_curve)[inds])\n",
    "    plt.plot(x_fold[inds], xo.utils.eval_in_model(light_curve, map_soln_tess)[inds])"
   ]
  },
  {
   "cell_type": "code",
   "execution_count": null,
   "metadata": {
    "collapsed": false
   },
   "outputs": [],
   "source": [
    "# plot model transits over TESS data\n",
    "plt.plot(x_tess, y_tess)\n",
    "plt.plot(x_tess, map_soln_tess[\"light_curves\"] + map_soln_tess[\"mean\"])"
   ]
  },
  {
   "cell_type": "code",
   "execution_count": null,
   "metadata": {
    "collapsed": false
   },
   "outputs": [],
   "source": [
    "# run MCMC to determine planet parameters\n",
    "np.random.seed(42)\n",
    "sampler = xo.PyMC3Sampler(window=100, finish=200)\n",
    "with model:\n",
    "    burnin = sampler.tune(tune=2500, start=map_soln_tess, step_kwargs=dict(target_accept=0.9))\n",
    "    trace_tess = sampler.sample(draws=3000)"
   ]
  },
  {
   "cell_type": "code",
   "execution_count": null,
   "metadata": {
    "collapsed": false
   },
   "outputs": [],
   "source": [
    "# display results\n",
    "pm.summary(trace_tess, varnames=[\"period\", \"t0\", \"r\", \"b\", \"u\", \"mean\"])"
   ]
  },
  {
   "cell_type": "code",
   "execution_count": null,
   "metadata": {
    "collapsed": true
   },
   "outputs": [],
   "source": []
  },
  {
   "cell_type": "code",
   "execution_count": null,
   "metadata": {
    "collapsed": true
   },
   "outputs": [],
   "source": [
    "# known transit time during K2 observation\n",
    "t1_k2 = 2156.9142610001054"
   ]
  },
  {
   "cell_type": "code",
   "execution_count": null,
   "metadata": {
    "collapsed": false
   },
   "outputs": [],
   "source": [
    "# read in K2 SFF data\n",
    "hdu = fits.open('./c03/205900000/04628/hlsp_k2sff_k2_lightcurve_205904628-c03_kepler_v1_llc.fits')\n",
    "print(hdu[1].columns)\n",
    "flux = hdu[1].data['FCOR']\n",
    "time = hdu[1].data['T']\n",
    "\n",
    "# plot uncorrected light curve\n",
    "plt.plot(time,flux)\n",
    "\n",
    "# correct light curve\n",
    "lc_k2 = lk.LightCurve(flux=flux, time=time)\n",
    "clipped_lc_k2 = lc_k2.flatten().remove_outliers(sigma=6).remove_outliers(sigma=6)\n",
    "y_err_k2 = np.std(clipped_lc_k2.flux[0:100]) * np.ones(len(clipped_lc_k2.flux))\n",
    "\n",
    "# plot corrected light curve \n",
    "ax = clipped_lc_k2.scatter(s=0.1)"
   ]
  },
  {
   "cell_type": "code",
   "execution_count": null,
   "metadata": {
    "collapsed": false
   },
   "outputs": [],
   "source": [
    "# plot phase curve\n",
    "fold_k2 = clipped_lc_k2.fold(9.977481)\n",
    "ax = fold_k2.scatter(s=0.1)"
   ]
  },
  {
   "cell_type": "code",
   "execution_count": null,
   "metadata": {
    "collapsed": true
   },
   "outputs": [],
   "source": [
    "# format data for input into xo\n",
    "norm_k2 = clipped_lc_k2.normalize()\n",
    "x_k2 = np.ascontiguousarray(norm_k2.time, dtype=np.float64)\n",
    "y_k2 = np.ascontiguousarray(norm_k2.flux, dtype=np.float64)\n",
    "yerr_k2 = np.ascontiguousarray(y_err_k2, dtype=np.float64)"
   ]
  },
  {
   "cell_type": "code",
   "execution_count": null,
   "metadata": {
    "collapsed": false
   },
   "outputs": [],
   "source": [
    "with pm.Model() as model:\n",
    "\n",
    "    # The baseline flux\n",
    "    mean = pm.Normal(\"mean\", mu=1, sd=1.0)\n",
    "\n",
    "    # The time of a reference transit for each planet\n",
    "    t0 = pm.Normal(\"t0\", mu=t1_k2, sd=1.0)\n",
    "\n",
    "    # The log period; also tracking the period itself\n",
    "    logP = pm.Normal(\"logP\", mu=np.log(period_guess), sd=0.1)\n",
    "    period = pm.Deterministic(\"period\", pm.math.exp(logP))\n",
    "\n",
    "    # The Kipping (2013) parameterization for quadratic limb darkening paramters\n",
    "    u = xo.distributions.QuadLimbDark(\"u\")\n",
    "\n",
    "    # The Espinoza (2018) parameterization for the joint radius ratio and\n",
    "    # impact parameter distribution\n",
    "    r, b = xo.distributions.get_joint_radius_impact(\n",
    "        min_radius=0.0001, max_radius=0.1,\n",
    "        testval_r=.001,\n",
    "        testval_b=0.5\n",
    "    )\n",
    "\n",
    "    # This shouldn't make a huge difference, but I like to put a uniform\n",
    "    # prior on the *log* of the radius ratio instead of the value. This\n",
    "    # can be implemented by adding a custom \"potential\" (log probability).\n",
    "    pm.Potential(\"r_prior\", -pm.math.log(r))\n",
    "\n",
    "    # Set up a Keplerian orbit for the planets\n",
    "    orbit = xo.orbits.KeplerianOrbit(period=period, t0=t0, b=b)\n",
    "\n",
    "    # Compute the model light curve using starry\n",
    "    light_curves = xo.StarryLightCurve(u).get_light_curve(\n",
    "        orbit=orbit, r=r, t=x_k2)\n",
    "    light_curve = pm.math.sum(light_curves, axis=-1) + mean\n",
    "\n",
    "    # Here we track the value of the model light curve for plotting\n",
    "    # purposes\n",
    "    pm.Deterministic(\"light_curves\", light_curves)\n",
    "\n",
    "    # The likelihood function assuming known Gaussian uncertainty\n",
    "    pm.Normal(\"obs\", mu=light_curve, sd=yerr_k2, observed=y_k2)\n",
    "\n",
    "    # Fit for the maximum a posteriori parameters given the simuated\n",
    "    # dataset\n",
    "    map_soln_k2 = model.test_point\n",
    "    map_soln_k2 = xo.optimize(start=map_soln_k2, vars = [t0])\n",
    "    map_soln_k2 = xo.optimize(start=map_soln_k2, vars = [mean, model.rb])\n",
    "    map_soln_k2 = xo.optimize(start=map_soln_k2, vars = [logP, t0])\n",
    "    map_soln_k2 = xo.optimize(start=map_soln_k2)"
   ]
  },
  {
   "cell_type": "code",
   "execution_count": null,
   "metadata": {
    "collapsed": false
   },
   "outputs": [],
   "source": [
    "# print initial model results\n",
    "print(map_soln_k2)"
   ]
  },
  {
   "cell_type": "code",
   "execution_count": null,
   "metadata": {
    "collapsed": true
   },
   "outputs": [],
   "source": []
  },
  {
   "cell_type": "code",
   "execution_count": null,
   "metadata": {
    "collapsed": false
   },
   "outputs": [],
   "source": [
    "np.random.seed(42)\n",
    "sampler = xo.PyMC3Sampler(window=100, finish=200)\n",
    "with model:\n",
    "    burnin = sampler.tune(tune=2500, start=map_soln_k2, step_kwargs=dict(target_accept=0.9))\n",
    "    trace_k2 = sampler.sample(draws=3000)"
   ]
  },
  {
   "cell_type": "code",
   "execution_count": null,
   "metadata": {
    "collapsed": false
   },
   "outputs": [],
   "source": [
    "# print planet parameters determined using K2 data\n",
    "pm.summary(trace_k2, varnames=[\"period\", \"t0\", \"r\", \"b\", \"u\", \"mean\"])"
   ]
  },
  {
   "cell_type": "code",
   "execution_count": null,
   "metadata": {
    "collapsed": true
   },
   "outputs": [],
   "source": []
  },
  {
   "cell_type": "code",
   "execution_count": null,
   "metadata": {
    "collapsed": true
   },
   "outputs": [],
   "source": []
  },
  {
   "cell_type": "code",
   "execution_count": null,
   "metadata": {
    "collapsed": true
   },
   "outputs": [],
   "source": []
  },
  {
   "cell_type": "code",
   "execution_count": null,
   "metadata": {
    "collapsed": false
   },
   "outputs": [],
   "source": [
    "tess_period = trace_tess[\"period\"][0]\n",
    "k2_period_xo = trace_k2[\"period\"][0]\n",
    "\n",
    "print(tess_period, k2_period_xo)\n",
    "print(f'The difference between TESS and K2 periods each determined with xo is {(tess_period - k2_period_xo)*24*60} minutes')\n",
    "print(f'The difference between TESS and the known period value from the literature is {(tess_period - period_guess)*24*60} minutes')\n",
    "print(f'The difference between the K2 period determined with xo and the known period value from the literature is {(k2_period_xo - period_guess)*24*60} minutes')"
   ]
  },
  {
   "cell_type": "code",
   "execution_count": null,
   "metadata": {
    "collapsed": false
   },
   "outputs": [],
   "source": [
    "### plot results from TESS ###\n",
    "\n",
    "# Get the posterior median orbital parameters\n",
    "p = np.median(trace_tess[\"period\"][:])\n",
    "t0 = np.median(trace_tess[\"t0\"][:])\n",
    "\n",
    "# Compute the median of posterior estimate of the contribution from\n",
    "# the other planet. Then we can remove this from the data to plot\n",
    "# just the planet we care about.\n",
    "other = np.median(trace_tess[\"mean\"])\n",
    "\n",
    "# Plot the folded data\n",
    "x_fold = (x_tess - t0 + 0.5*p) % p - 0.5*p\n",
    "plt.errorbar(x_fold, y_tess - other, yerr=yerr_tess, fmt=\".k\", label=\"data\", zorder=-1000)\n",
    "\n",
    "# Plot the folded model\n",
    "inds = np.argsort(x_fold)\n",
    "inds = inds[np.abs(x_fold)[inds] < 0.3]\n",
    "pred = trace_tess[\"light_curves\"][:, inds, 0]\n",
    "pred = np.percentile(pred, [16, 50, 84], axis=0)\n",
    "plt.plot(x_fold[inds], pred[1], color=\"C1\", label=\"model\")\n",
    "art = plt.fill_between(x_fold[inds], pred[0], pred[2], color=\"C1\", alpha=0.5,\n",
    "                       zorder=1000)\n",
    "art.set_edgecolor(\"none\")\n",
    "\n",
    "# Annotate the plot with the planet's period\n",
    "txt = \"period = {0:.4f} +/- {1:.4f} d\".format(\n",
    "    np.mean(trace_tess[\"period\"][:]), np.std(trace_tess[\"period\"][:]))\n",
    "plt.annotate(txt, (0, 0), xycoords=\"axes fraction\",\n",
    "             xytext=(5, 5), textcoords=\"offset points\",\n",
    "             ha=\"left\", va=\"bottom\", fontsize=12)\n",
    "\n",
    "plt.legend(fontsize=10, loc=4)\n",
    "plt.xlim(-0.5*p, 0.5*p)\n",
    "plt.xlabel(\"time since transit [days]\")\n",
    "plt.ylabel(\"relative flux\")\n",
    "plt.title(\"K2-167 b, TESS Data\");\n",
    "plt.xlim(-0.3, 0.3)"
   ]
  },
  {
   "cell_type": "code",
   "execution_count": null,
   "metadata": {
    "collapsed": false
   },
   "outputs": [],
   "source": [
    "### plot results from K2 ###\n",
    "\n",
    "# Get the posterior median orbital parameters\n",
    "p = np.median(trace_k2[\"period\"][:])\n",
    "t0 = np.median(trace_k2[\"t0\"][:])\n",
    "\n",
    "# Compute the median of posterior estimate of the contribution from\n",
    "# the other planet. Then we can remove this from the data to plot\n",
    "# just the planet we care about.\n",
    "other = np.median(trace_k2[\"mean\"])\n",
    "\n",
    "# Plot the folded data\n",
    "x_fold = (x_k2 - t0 + 0.5*p) % p - 0.5*p\n",
    "plt.errorbar(x_fold, y_k2 - other, yerr=yerr_k2, fmt=\".k\", label=\"data\", zorder=-1000)\n",
    "\n",
    "# Plot the folded model\n",
    "inds = np.argsort(x_fold)\n",
    "inds = inds[np.abs(x_fold)[inds] < 0.3]\n",
    "pred = trace_k2[\"light_curves\"][:, inds, 0]\n",
    "pred = np.percentile(pred, [16, 50, 84], axis=0)\n",
    "plt.plot(x_fold[inds], pred[1], color=\"C1\", label=\"model\")\n",
    "art = plt.fill_between(x_fold[inds], pred[0], pred[2], color=\"C1\", alpha=0.5,\n",
    "                       zorder=1000)\n",
    "art.set_edgecolor(\"none\")\n",
    "\n",
    "# Annotate the plot with the planet's period\n",
    "txt = \"period = {0:.4f} +/- {1:.4f} d\".format(\n",
    "    np.mean(trace_k2[\"period\"][:]), np.std(trace_k2[\"period\"][:]))\n",
    "plt.annotate(txt, (0, 0), xycoords=\"axes fraction\",\n",
    "             xytext=(5, 5), textcoords=\"offset points\",\n",
    "             ha=\"left\", va=\"bottom\", fontsize=12)\n",
    "\n",
    "plt.legend(fontsize=10, loc=4)\n",
    "plt.xlim(-0.5*p, 0.5*p)\n",
    "plt.xlabel(\"time since transit [days]\")\n",
    "plt.ylabel(\"relative flux\")\n",
    "plt.title(\"K2-167 b, K2 Data\");\n",
    "plt.xlim(-0.3, 0.3)"
   ]
  },
  {
   "cell_type": "code",
   "execution_count": null,
   "metadata": {
    "collapsed": true
   },
   "outputs": [],
   "source": []
  },
  {
   "cell_type": "code",
   "execution_count": null,
   "metadata": {
    "collapsed": true
   },
   "outputs": [],
   "source": []
  },
  {
   "cell_type": "code",
   "execution_count": null,
   "metadata": {
    "collapsed": true
   },
   "outputs": [],
   "source": []
  }
 ],
 "metadata": {
  "kernelspec": {
   "display_name": "Python [default]",
   "language": "python",
   "name": "python3"
  },
  "language_info": {
   "codemirror_mode": {
    "name": "ipython",
    "version": 3
   },
   "file_extension": ".py",
   "mimetype": "text/x-python",
   "name": "python",
   "nbconvert_exporter": "python",
   "pygments_lexer": "ipython3",
   "version": "3.5.6"
  }
 },
 "nbformat": 4,
 "nbformat_minor": 2
}
