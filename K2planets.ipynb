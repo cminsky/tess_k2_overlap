{
 "cells": [
  {
   "cell_type": "markdown",
   "metadata": {},
   "source": [
    "# Finding confirmed K2 targets in TESS 2 min cadence data, sectors 1-7"
   ]
  },
  {
   "cell_type": "code",
   "execution_count": 1,
   "metadata": {
    "collapsed": false
   },
   "outputs": [],
   "source": [
    "from mast import *\n",
    "import pandas\n",
    "import pickle"
   ]
  },
  {
   "cell_type": "markdown",
   "metadata": {},
   "source": [
    "### Get TIC IDs for all TESS 2 min cadence targets in sectors 1-7"
   ]
  },
  {
   "cell_type": "code",
   "execution_count": 2,
   "metadata": {
    "collapsed": false
   },
   "outputs": [
    {
     "name": "stdout",
     "output_type": "stream",
     "text": [
      "(72947, 1)\n"
     ]
    }
   ],
   "source": [
    "shortCad = pandas.read_csv('data/shortCadenceTargetList.csv')\n",
    "print(shortCad.shape)"
   ]
  },
  {
   "cell_type": "code",
   "execution_count": 3,
   "metadata": {
    "collapsed": false
   },
   "outputs": [
    {
     "name": "stdout",
     "output_type": "stream",
     "text": [
      "72947\n"
     ]
    }
   ],
   "source": [
    "cadTICs = []\n",
    "\n",
    "for index,row in shortCad.iterrows():\n",
    "    tic = row['TIC']\n",
    "    cadTICs.append(tic)\n",
    "    \n",
    "print(len(cadTICs))"
   ]
  },
  {
   "cell_type": "markdown",
   "metadata": {},
   "source": [
    "### EPIC TIC IDs for all K2 confirmed planets"
   ]
  },
  {
   "cell_type": "code",
   "execution_count": 17,
   "metadata": {
    "collapsed": false
   },
   "outputs": [
    {
     "name": "stdout",
     "output_type": "stream",
     "text": [
      "(50, 89)\n"
     ]
    }
   ],
   "source": [
    "K2planets = pandas.read_csv('overlapplanets.csv')\n",
    "print(K2planets.shape)"
   ]
  },
  {
   "cell_type": "markdown",
   "metadata": {},
   "source": [
    "### Convert to TIC IDs and cross match with 2 min target list"
   ]
  },
  {
   "cell_type": "code",
   "execution_count": 26,
   "metadata": {
    "collapsed": false
   },
   "outputs": [],
   "source": [
    "rows_list = []\n",
    "\n",
    "for index, row in K2planets.iterrows():\n",
    "    RA = row['RA']\n",
    "    Dec = row['DEC']\n",
    "    epic = row['EPIC']\n",
    "    tic = tic_from_coords((float(RA),float(Dec)))[0]\n",
    "    if tic in cadTICs:\n",
    "        rows_list.append({'EPIC':epic,'TIC':tic})"
   ]
  },
  {
   "cell_type": "markdown",
   "metadata": {},
   "source": [
    "### Save matching planets and test retrieval"
   ]
  },
  {
   "cell_type": "code",
   "execution_count": 29,
   "metadata": {
    "collapsed": false
   },
   "outputs": [],
   "source": [
    "matchingplanets.to_csv('planetmatches.csv')"
   ]
  },
  {
   "cell_type": "code",
   "execution_count": 30,
   "metadata": {
    "collapsed": false
   },
   "outputs": [
    {
     "name": "stdout",
     "output_type": "stream",
     "text": [
      "(26, 3)\n",
      "Unnamed: 0            0\n",
      "EPIC          205904628\n",
      "TIC            69747919\n",
      "Name: 0, dtype: int64\n"
     ]
    }
   ],
   "source": [
    "match_test = pandas.read_csv('planetmatches.csv')\n",
    "print(match_test.shape)\n",
    "print(match_test.iloc[0])"
   ]
  }
 ],
 "metadata": {
  "anaconda-cloud": {},
  "kernelspec": {
   "display_name": "Python [conda root]",
   "language": "python",
   "name": "conda-root-py"
  },
  "language_info": {
   "codemirror_mode": {
    "name": "ipython",
    "version": 3
   },
   "file_extension": ".py",
   "mimetype": "text/x-python",
   "name": "python",
   "nbconvert_exporter": "python",
   "pygments_lexer": "ipython3",
   "version": "3.5.6"
  }
 },
 "nbformat": 4,
 "nbformat_minor": 1
}
