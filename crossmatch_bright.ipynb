{
 "cells": [
  {
   "cell_type": "code",
   "execution_count": 4,
   "metadata": {
    "collapsed": true
   },
   "outputs": [],
   "source": [
    "from mast import *\n",
    "import pandas\n",
    "import pickle\n",
    "\n",
    "def fetch_K2_targets(target_type='planets',verbose=False):\n",
    "    K2_targets = pandas.read_csv('data/overlap_'+target_type+'.csv')\n",
    "    if verbose: print('K2 targets:',K2_targets.shape[0])\n",
    "    return K2_targets\n",
    "\n",
    "def cross_match(target_type='planets',short_cad_TICs=None,verbose=False,vals=[]):\n",
    "    if short_cad_TICs == None:\n",
    "        short_cad_TICs = fetch_short_cad(verbose=verbose)\n",
    "    else:\n",
    "        if verbose: print('Short cadence targets:',len(short_cad_TICs))\n",
    "    K2_targets = fetch_K2_targets(target_type=target_type,verbose=verbose)\n",
    "    rows_list = []\n",
    "    count = 0\n",
    "    for index, row in K2_targets.iterrows():\n",
    "        if (count % 50) == 0:\n",
    "            print(count)\n",
    "        RA = row['RA']\n",
    "        Dec = row['DEC']\n",
    "        epic = row['EPIC']\n",
    "        sector = None\n",
    "        for i in range(1,27):\n",
    "            if row['S'+str(i)] == 1:\n",
    "                sector = i\n",
    "        try:\n",
    "            tic = tic_from_coords((float(RA),float(Dec)))[0]\n",
    "        except ValueError:\n",
    "            print(RA,Dec)\n",
    "            pass\n",
    "        if tic in short_cad_TICs:\n",
    "            val_dict = {'EPIC':epic,'TIC':tic,'RA':RA,'DEC':Dec,'sector':sector}\n",
    "            for additional_val in vals:\n",
    "                val_dict[additional_val] = row[additional_val]\n",
    "            rows_list.append(val_dict)\n",
    "        if (count % 50) == 0:\n",
    "            with open('intermediate_bright.pickle','wb') as handle:\n",
    "                pickle.dump(rows_list,handle,protocol=pickle.HIGHEST_PROTOCOL)\n",
    "        count += 1\n",
    "    matches = pandas.DataFrame(rows_list)\n",
    "    return matches"
   ]
  },
  {
   "cell_type": "code",
   "execution_count": 5,
   "metadata": {
    "collapsed": true
   },
   "outputs": [],
   "source": [
    "crossmatch_all = pandas.read_csv('data/crossmatch_all.csv')\n",
    "crossmatch_TIC_set = set(crossmatch_all['0'].tolist())"
   ]
  },
  {
   "cell_type": "code",
   "execution_count": 6,
   "metadata": {
    "collapsed": false
   },
   "outputs": [
    {
     "name": "stdout",
     "output_type": "stream",
     "text": [
      "Short cadence targets: 312\n",
      "K2 targets: 1476\n",
      "0\n",
      "50\n",
      "100\n",
      "150\n",
      "200\n",
      "250\n",
      "300\n",
      "350\n",
      "400\n",
      "450\n",
      "500\n",
      "550\n",
      "600\n",
      "650\n",
      "700\n",
      "750\n",
      "800\n",
      "850\n",
      "900\n",
      "950\n",
      "1000\n",
      "1050\n",
      "1100\n",
      "1150\n",
      "1200\n",
      "1250\n",
      "1300\n",
      "1350\n",
      "1400\n",
      "155.86803999999998 0.90217\n",
      "1450\n"
     ]
    }
   ],
   "source": [
    "matches = cross_match(target_type='bright',short_cad_TICs=crossmatch_TIC_set,verbose=True)"
   ]
  },
  {
   "cell_type": "code",
   "execution_count": 7,
   "metadata": {
    "collapsed": true
   },
   "outputs": [],
   "source": [
    "filename = 'data/crossmatch_bright.csv'\n",
    "matches.to_csv('data/crossmatch_bright.csv')"
   ]
  },
  {
   "cell_type": "code",
   "execution_count": null,
   "metadata": {
    "collapsed": true
   },
   "outputs": [],
   "source": []
  }
 ],
 "metadata": {
  "anaconda-cloud": {},
  "kernelspec": {
   "display_name": "Python [conda root]",
   "language": "python",
   "name": "conda-root-py"
  },
  "language_info": {
   "codemirror_mode": {
    "name": "ipython",
    "version": 3
   },
   "file_extension": ".py",
   "mimetype": "text/x-python",
   "name": "python",
   "nbconvert_exporter": "python",
   "pygments_lexer": "ipython3",
   "version": "3.5.6"
  }
 },
 "nbformat": 4,
 "nbformat_minor": 1
}
