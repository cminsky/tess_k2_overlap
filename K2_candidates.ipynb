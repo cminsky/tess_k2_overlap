{
 "cells": [
  {
   "cell_type": "markdown",
   "metadata": {},
   "source": [
    "# Finding K2 planet candidates in TESS 2 min cadence data, sectors 1-7"
   ]
  },
  {
   "cell_type": "code",
   "execution_count": 1,
   "metadata": {
    "collapsed": false
   },
   "outputs": [],
   "source": [
    "from mast import *\n",
    "import pandas\n",
    "import pickle"
   ]
  },
  {
   "cell_type": "markdown",
   "metadata": {},
   "source": [
    "### Get TIC IDs for all TESS 2 min cadence targets in sectors 1-7"
   ]
  },
  {
   "cell_type": "code",
   "execution_count": 2,
   "metadata": {
    "collapsed": false
   },
   "outputs": [
    {
     "name": "stdout",
     "output_type": "stream",
     "text": [
      "(72947, 1)\n"
     ]
    }
   ],
   "source": [
    "shortCad = pandas.read_csv('data/shortCadenceTargetList.csv')\n",
    "print(shortCad.shape)"
   ]
  },
  {
   "cell_type": "code",
   "execution_count": 3,
   "metadata": {
    "collapsed": false
   },
   "outputs": [
    {
     "name": "stdout",
     "output_type": "stream",
     "text": [
      "72947\n"
     ]
    }
   ],
   "source": [
    "cadTICs = []\n",
    "\n",
    "for index,row in shortCad.iterrows():\n",
    "    tic = row['TIC']\n",
    "    cadTICs.append(tic)\n",
    "    \n",
    "print(len(cadTICs))"
   ]
  },
  {
   "cell_type": "markdown",
   "metadata": {},
   "source": [
    "### EPIC TIC IDs for all K2 planet candidates"
   ]
  },
  {
   "cell_type": "code",
   "execution_count": 4,
   "metadata": {
    "collapsed": false
   },
   "outputs": [
    {
     "name": "stdout",
     "output_type": "stream",
     "text": [
      "(132, 46)\n"
     ]
    }
   ],
   "source": [
    "K2planets = pandas.read_csv('data/overlap_candidates.csv')\n",
    "print(K2planets.shape)"
   ]
  },
  {
   "cell_type": "markdown",
   "metadata": {},
   "source": [
    "### Convert to TIC IDs and cross match with 2 min target list"
   ]
  },
  {
   "cell_type": "code",
   "execution_count": 6,
   "metadata": {
    "collapsed": false
   },
   "outputs": [],
   "source": [
    "rows_list = []\n",
    "\n",
    "for index, row in K2planets.iterrows():\n",
    "    RA = row['RA']\n",
    "    Dec = row['DEC']\n",
    "    epic = row['EPIC']\n",
    "    sector = None\n",
    "    for i in range(1,27):\n",
    "        if row['S'+str(i)] == 1:\n",
    "            sector = i\n",
    "    tic = tic_from_coords((float(RA),float(Dec)))[0]\n",
    "    if tic in cadTICs:\n",
    "        rows_list.append({'EPIC':epic,'TIC':tic,\n",
    "                          'RA':RA,'DEC':Dec,'sector':sector,\n",
    "                         'pl_orbper':row['pl_orbper'],})"
   ]
  },
  {
   "cell_type": "markdown",
   "metadata": {},
   "source": [
    "### Save matching candidates and test retrieval"
   ]
  },
  {
   "cell_type": "code",
   "execution_count": 7,
   "metadata": {
    "collapsed": false
   },
   "outputs": [],
   "source": [
    "matching_candidates = pandas.DataFrame(rows_list)\n",
    "matching_candidates.to_csv('data/candidate_matches.csv')"
   ]
  },
  {
   "cell_type": "code",
   "execution_count": 8,
   "metadata": {
    "collapsed": false
   },
   "outputs": [
    {
     "name": "stdout",
     "output_type": "stream",
     "text": [
      "(34, 7)\n",
      "Unnamed: 0    0.000000e+00\n",
      "DEC           1.474177e+01\n",
      "EPIC          2.020882e+08\n",
      "RA            9.564130e+01\n",
      "TIC           4.380718e+08\n",
      "pl_orbper     2.620724e+00\n",
      "sector        6.000000e+00\n",
      "Name: 0, dtype: float64\n"
     ]
    }
   ],
   "source": [
    "match_test = pandas.read_csv('data/candidate_matches.csv')\n",
    "print(match_test.shape)\n",
    "print(match_test.iloc[0])"
   ]
  },
  {
   "cell_type": "code",
   "execution_count": null,
   "metadata": {
    "collapsed": true
   },
   "outputs": [],
   "source": []
  }
 ],
 "metadata": {
  "anaconda-cloud": {},
  "kernelspec": {
   "display_name": "Python [conda root]",
   "language": "python",
   "name": "conda-root-py"
  },
  "language_info": {
   "codemirror_mode": {
    "name": "ipython",
    "version": 3
   },
   "file_extension": ".py",
   "mimetype": "text/x-python",
   "name": "python",
   "nbconvert_exporter": "python",
   "pygments_lexer": "ipython3",
   "version": "3.5.6"
  }
 },
 "nbformat": 4,
 "nbformat_minor": 1
}
