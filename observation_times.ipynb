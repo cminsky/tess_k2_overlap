{
 "cells": [
  {
   "cell_type": "code",
   "execution_count": 2,
   "metadata": {
    "collapsed": false
   },
   "outputs": [],
   "source": [
    "import pandas\n",
    "from astropy.time import *"
   ]
  },
  {
   "cell_type": "code",
   "execution_count": 12,
   "metadata": {
    "collapsed": false
   },
   "outputs": [],
   "source": [
    "tess_df = pandas.read_csv('data/times_TESS.csv')"
   ]
  },
  {
   "cell_type": "code",
   "execution_count": 13,
   "metadata": {
    "collapsed": false
   },
   "outputs": [],
   "source": [
    "for index,row in tess_df.iterrows():\n",
    "    start_jd = Time(row['start']).jd\n",
    "    end_jd = Time(row['end']).jd\n",
    "    tess_df.at[index,'start_jd'] = start_jd\n",
    "    tess_df.at[index,'end_jd'] = end_jd\n",
    "    tess_df.at[index,'start_btjd'] = start_jd-2457000\n",
    "    tess_df.at[index,'end_btjd'] = end_jd-2457000"
   ]
  },
  {
   "cell_type": "code",
   "execution_count": 14,
   "metadata": {
    "collapsed": true
   },
   "outputs": [],
   "source": [
    "tess_df.to_csv('data/times_TESS.csv')"
   ]
  },
  {
   "cell_type": "code",
   "execution_count": 15,
   "metadata": {
    "collapsed": true
   },
   "outputs": [],
   "source": [
    "k2_df = pandas.read_csv('data/times_K2.csv')"
   ]
  },
  {
   "cell_type": "code",
   "execution_count": 16,
   "metadata": {
    "collapsed": false
   },
   "outputs": [],
   "source": [
    "for index,row in k2_df.iterrows():\n",
    "    start_jd = Time(row['start']).jd\n",
    "    end_jd = Time(row['end']).jd\n",
    "    k2_df.at[index,'start_jd'] = start_jd\n",
    "    k2_df.at[index,'end_jd'] = start_jd\n",
    "    k2_df.at[index,'start_kjd'] = start_jd-2454833\n",
    "    k2_df.at[index,'end_kjd'] = end_jd-2454833"
   ]
  },
  {
   "cell_type": "code",
   "execution_count": 17,
   "metadata": {
    "collapsed": true
   },
   "outputs": [],
   "source": [
    "k2_df.to_csv('data/times_K2.csv')"
   ]
  },
  {
   "cell_type": "code",
   "execution_count": null,
   "metadata": {
    "collapsed": true
   },
   "outputs": [],
   "source": []
  }
 ],
 "metadata": {
  "anaconda-cloud": {},
  "kernelspec": {
   "display_name": "Python [conda root]",
   "language": "python",
   "name": "conda-root-py"
  },
  "language_info": {
   "codemirror_mode": {
    "name": "ipython",
    "version": 3
   },
   "file_extension": ".py",
   "mimetype": "text/x-python",
   "name": "python",
   "nbconvert_exporter": "python",
   "pygments_lexer": "ipython3",
   "version": "3.5.6"
  }
 },
 "nbformat": 4,
 "nbformat_minor": 1
}
