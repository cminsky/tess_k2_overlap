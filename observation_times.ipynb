{
 "cells": [
  {
   "cell_type": "code",
   "execution_count": 2,
   "metadata": {
    "collapsed": false
   },
   "outputs": [],
   "source": [
    "import pandas\n",
    "from astropy.time import *"
   ]
  },
  {
   "cell_type": "code",
   "execution_count": 26,
   "metadata": {
    "collapsed": true
   },
   "outputs": [],
   "source": [
    "tess_df = pandas.read_csv('data/tess_times.csv')"
   ]
  },
  {
   "cell_type": "code",
   "execution_count": 38,
   "metadata": {
    "collapsed": false
   },
   "outputs": [],
   "source": [
    "for index,row in tess_df.iterrows():\n",
    "    start_jd = Time(row['start']).jd\n",
    "    end_jd = Time(row['end']).jd\n",
    "    tess_df.at[index,'start_jd'] = start_jd\n",
    "    tess_df.at[index,'end_jd'] = start_jd\n",
    "    tess_df.at[index,'start_btjd'] = start_jd-2457000\n",
    "    tess_df.at[index,'end_btjd'] = end_jd-2457000"
   ]
  },
  {
   "cell_type": "code",
   "execution_count": 39,
   "metadata": {
    "collapsed": false
   },
   "outputs": [
    {
     "name": "stdout",
     "output_type": "stream",
     "text": [
      "    sector       start         end   start_jd     end_jd  start_btjd  end_btjd\n",
      "0        1  2018-07-25  2018-08-22  2458324.5  2458324.5      1324.5    1352.5\n",
      "1        2  2018-08-22  2018-09-20  2458352.5  2458352.5      1352.5    1381.5\n",
      "2        3  2018-09-20  2018-10-18  2458381.5  2458381.5      1381.5    1409.5\n",
      "3        4  2018-10-18  2018-11-15  2458409.5  2458409.5      1409.5    1437.5\n",
      "4        5  2018-11-15  2018-12-11  2458437.5  2458437.5      1437.5    1463.5\n",
      "5        6  2018-12-11  2019-01-07  2458463.5  2458463.5      1463.5    1490.5\n",
      "6        7  2019-01-07  2019-02-02  2458490.5  2458490.5      1490.5    1516.5\n",
      "7        8  2019-02-02  2019-02-28  2458516.5  2458516.5      1516.5    1542.5\n",
      "8        9  2019-02-28  2019-03-26  2458542.5  2458542.5      1542.5    1568.5\n",
      "9       10  2019-03-26  2019-04-22  2458568.5  2458568.5      1568.5    1595.5\n",
      "10      11  2019-04-22  2019-05-21  2458595.5  2458595.5      1595.5    1624.5\n",
      "11      12  2019-05-21  2019-06-19  2458624.5  2458624.5      1624.5    1653.5\n",
      "12      13  2019-06-19  2019-07-18  2458653.5  2458653.5      1653.5    1682.5\n"
     ]
    }
   ],
   "source": [
    "print(tess_df)"
   ]
  },
  {
   "cell_type": "code",
   "execution_count": 30,
   "metadata": {
    "collapsed": true
   },
   "outputs": [],
   "source": [
    "tess_df.to_csv('data/tesstimes.csv')"
   ]
  },
  {
   "cell_type": "code",
   "execution_count": 44,
   "metadata": {
    "collapsed": true
   },
   "outputs": [],
   "source": [
    "k2_df = pandas.read_csv('data/k2_times.csv')"
   ]
  },
  {
   "cell_type": "code",
   "execution_count": 47,
   "metadata": {
    "collapsed": false
   },
   "outputs": [],
   "source": [
    "for index,row in k2_df.iterrows():\n",
    "    start_jd = Time(row['start']).jd\n",
    "    end_jd = Time(row['end']).jd\n",
    "    k2_df.at[index,'start_jd'] = start_jd\n",
    "    k2_df.at[index,'end_jd'] = start_jd\n",
    "    k2_df.at[index,'start_kjd'] = start_jd-2454833\n",
    "    k2_df.at[index,'end_kjd'] = end_jd-2454833"
   ]
  },
  {
   "cell_type": "code",
   "execution_count": 48,
   "metadata": {
    "collapsed": false
   },
   "outputs": [
    {
     "name": "stdout",
     "output_type": "stream",
     "text": [
      "    campaign       start         end   start_jd     end_jd  star_kjd  end_kjd  \\\n",
      "0          0  2014-03-08  2014-05-27  2456724.5  2456724.5       NaN   1971.5   \n",
      "1          1  2014-05-30  2014-08-21  2456807.5  2456807.5       NaN   2057.5   \n",
      "2          2  2014-08-23  2014-11-13  2456892.5  2456892.5       NaN   2141.5   \n",
      "3          3  2014-11-14  2015-02-03  2456975.5  2456975.5       NaN   2223.5   \n",
      "4          4  2014-02-07  2015-04-23  2456695.5  2456695.5       NaN   2302.5   \n",
      "5          5  2015-04-27  2015-07-10  2457139.5  2457139.5       NaN   2380.5   \n",
      "6          6  2015-07-14  2015-09-30  2457217.5  2457217.5       NaN   2462.5   \n",
      "7          7  2015-10-04  2015-12-26  2457299.5  2457299.5       NaN   2549.5   \n",
      "8          8  2016-01-03  2016-03-23  2457390.5  2457390.5       NaN   2637.5   \n",
      "9          9  2016-04-21  2016-07-01  2457499.5  2457499.5       NaN   2737.5   \n",
      "10        10  2016-07-06  2016-09-26  2457575.5  2457575.5       NaN   2824.5   \n",
      "11        11  2016-09-24  2016-12-08  2457655.5  2457655.5       NaN   2897.5   \n",
      "12        12  2018-12-15  2017-03-04  2458467.5  2458467.5       NaN   2983.5   \n",
      "13        13  2017-03-08  2017-05-27  2457820.5  2457820.5       NaN   3067.5   \n",
      "14        14  2017-05-31  2017-08-19  2457904.5  2457904.5       NaN   3151.5   \n",
      "15        15  2017-08-23  2017-11-20  2457988.5  2457988.5       NaN   3244.5   \n",
      "16        16  2017-12-07  2018-02-25  2458094.5  2458094.5       NaN   3341.5   \n",
      "17        17  2018-03-01  2018-05-08  2458178.5  2458178.5       NaN   3413.5   \n",
      "18        18  2018-05-12  2018-07-02  2458250.5  2458250.5       NaN   3468.5   \n",
      "19        19  2018-08-29  2018-09-26  2458359.5  2458359.5       NaN   3554.5   \n",
      "\n",
      "    start_kjd  \n",
      "0      1891.5  \n",
      "1      1974.5  \n",
      "2      2059.5  \n",
      "3      2142.5  \n",
      "4      1862.5  \n",
      "5      2306.5  \n",
      "6      2384.5  \n",
      "7      2466.5  \n",
      "8      2557.5  \n",
      "9      2666.5  \n",
      "10     2742.5  \n",
      "11     2822.5  \n",
      "12     3634.5  \n",
      "13     2987.5  \n",
      "14     3071.5  \n",
      "15     3155.5  \n",
      "16     3261.5  \n",
      "17     3345.5  \n",
      "18     3417.5  \n",
      "19     3526.5  \n"
     ]
    }
   ],
   "source": [
    "print(k2_df)"
   ]
  },
  {
   "cell_type": "code",
   "execution_count": null,
   "metadata": {
    "collapsed": true
   },
   "outputs": [],
   "source": [
    "tess_df.to_csv('data/tesstimes.csv')"
   ]
  }
 ],
 "metadata": {
  "kernelspec": {
   "display_name": "Python [conda root]",
   "language": "python",
   "name": "conda-root-py"
  },
  "language_info": {
   "codemirror_mode": {
    "name": "ipython",
    "version": 3
   },
   "file_extension": ".py",
   "mimetype": "text/x-python",
   "name": "python",
   "nbconvert_exporter": "python",
   "pygments_lexer": "ipython3",
   "version": "3.5.6"
  }
 },
 "nbformat": 4,
 "nbformat_minor": 1
}
