{
 "cells": [
  {
   "cell_type": "code",
   "execution_count": 1,
   "metadata": {
    "collapsed": false
   },
   "outputs": [],
   "source": [
    "import pandas\n",
    "from astropy.time import *"
   ]
  },
  {
   "cell_type": "code",
   "execution_count": 2,
   "metadata": {
    "collapsed": true
   },
   "outputs": [],
   "source": [
    "tess_df = pandas.read_csv('data/tess_times.csv')"
   ]
  },
  {
   "cell_type": "code",
   "execution_count": 3,
   "metadata": {
    "collapsed": false
   },
   "outputs": [],
   "source": [
    "for index,row in tess_df.iterrows():\n",
    "    start_jd = Time(row['start']).jd\n",
    "    end_jd = Time(row['end']).jd\n",
    "    tess_df.at[index,'start_jd'] = start_jd\n",
    "    tess_df.at[index,'end_jd'] = start_jd\n",
    "    tess_df.at[index,'start_btjd'] = start_jd-2457000\n",
    "    tess_df.at[index,'end_btjd'] = end_jd-2457000"
   ]
  },
  {
   "cell_type": "code",
   "execution_count": 5,
   "metadata": {
    "collapsed": true
   },
   "outputs": [],
   "source": [
    "tess_df.to_csv('data/tesstimes.csv')"
   ]
  },
  {
   "cell_type": "code",
   "execution_count": 6,
   "metadata": {
    "collapsed": true
   },
   "outputs": [],
   "source": [
    "k2_df = pandas.read_csv('data/k2_times.csv')"
   ]
  },
  {
   "cell_type": "code",
   "execution_count": 7,
   "metadata": {
    "collapsed": false
   },
   "outputs": [],
   "source": [
    "for index,row in k2_df.iterrows():\n",
    "    start_jd = Time(row['start']).jd\n",
    "    end_jd = Time(row['end']).jd\n",
    "    k2_df.at[index,'start_jd'] = start_jd\n",
    "    k2_df.at[index,'end_jd'] = start_jd\n",
    "    k2_df.at[index,'start_kjd'] = start_jd-2454833\n",
    "    k2_df.at[index,'end_kjd'] = end_jd-2454833"
   ]
  },
  {
   "cell_type": "code",
   "execution_count": 9,
   "metadata": {
    "collapsed": true
   },
   "outputs": [],
   "source": [
    "k2_df.to_csv('data/k2_times.csv')"
   ]
  }
 ],
 "metadata": {
  "kernelspec": {
   "display_name": "Python [conda root]",
   "language": "python",
   "name": "conda-root-py"
  },
  "language_info": {
   "codemirror_mode": {
    "name": "ipython",
    "version": 3
   },
   "file_extension": ".py",
   "mimetype": "text/x-python",
   "name": "python",
   "nbconvert_exporter": "python",
   "pygments_lexer": "ipython3",
   "version": "3.5.6"
  }
 },
 "nbformat": 4,
 "nbformat_minor": 1
}
